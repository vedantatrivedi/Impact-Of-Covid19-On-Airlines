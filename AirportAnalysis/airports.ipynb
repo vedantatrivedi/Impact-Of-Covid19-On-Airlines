{
 "cells": [
  {
   "cell_type": "code",
   "execution_count": 3,
   "metadata": {},
   "outputs": [
    {
     "data": {
      "text/html": [
       "<div>\n",
       "<style scoped>\n",
       "    .dataframe tbody tr th:only-of-type {\n",
       "        vertical-align: middle;\n",
       "    }\n",
       "\n",
       "    .dataframe tbody tr th {\n",
       "        vertical-align: top;\n",
       "    }\n",
       "\n",
       "    .dataframe thead th {\n",
       "        text-align: right;\n",
       "    }\n",
       "</style>\n",
       "<table border=\"1\" class=\"dataframe\">\n",
       "  <thead>\n",
       "    <tr style=\"text-align: right;\">\n",
       "      <th></th>\n",
       "      <th>Airport ID</th>\n",
       "      <th>Name</th>\n",
       "      <th>City</th>\n",
       "      <th>Country</th>\n",
       "      <th>IATA</th>\n",
       "      <th>ICAO</th>\n",
       "      <th>Latitude</th>\n",
       "      <th>Longitude</th>\n",
       "      <th>Altitude</th>\n",
       "      <th>Timezone</th>\n",
       "      <th>DST</th>\n",
       "      <th>Tz database time zone</th>\n",
       "      <th>Type</th>\n",
       "      <th>Source</th>\n",
       "    </tr>\n",
       "  </thead>\n",
       "  <tbody>\n",
       "    <tr>\n",
       "      <th>7696</th>\n",
       "      <td>14109</td>\n",
       "      <td>Desierto de Atacama Airport</td>\n",
       "      <td>Copiapo</td>\n",
       "      <td>Chile</td>\n",
       "      <td>CPO</td>\n",
       "      <td>SCAT</td>\n",
       "      <td>-27.261200</td>\n",
       "      <td>-70.779198</td>\n",
       "      <td>670</td>\n",
       "      <td>\\N</td>\n",
       "      <td>\\N</td>\n",
       "      <td>\\N</td>\n",
       "      <td>airport</td>\n",
       "      <td>OurAirports</td>\n",
       "    </tr>\n",
       "    <tr>\n",
       "      <th>7697</th>\n",
       "      <td>14110</td>\n",
       "      <td>Melitopol Air Base</td>\n",
       "      <td>Melitopol</td>\n",
       "      <td>Ukraine</td>\n",
       "      <td>\\N</td>\n",
       "      <td>UKDM</td>\n",
       "      <td>46.880001</td>\n",
       "      <td>35.305000</td>\n",
       "      <td>0</td>\n",
       "      <td>\\N</td>\n",
       "      <td>\\N</td>\n",
       "      <td>\\N</td>\n",
       "      <td>airport</td>\n",
       "      <td>OurAirports</td>\n",
       "    </tr>\n",
       "  </tbody>\n",
       "</table>\n",
       "</div>"
      ],
      "text/plain": [
       "      Airport ID                         Name       City  Country IATA  ICAO  \\\n",
       "7696       14109  Desierto de Atacama Airport    Copiapo    Chile  CPO  SCAT   \n",
       "7697       14110           Melitopol Air Base  Melitopol  Ukraine   \\N  UKDM   \n",
       "\n",
       "       Latitude  Longitude  Altitude Timezone DST Tz database time zone  \\\n",
       "7696 -27.261200 -70.779198       670       \\N  \\N                    \\N   \n",
       "7697  46.880001  35.305000         0       \\N  \\N                    \\N   \n",
       "\n",
       "         Type       Source  \n",
       "7696  airport  OurAirports  \n",
       "7697  airport  OurAirports  "
      ]
     },
     "execution_count": 3,
     "metadata": {},
     "output_type": "execute_result"
    }
   ],
   "source": [
    "import matplotlib.pyplot as plt\n",
    "import pandas as pd\n",
    "\n",
    "#File to Load (Remember to Change These)\n",
    "file_to_load = \"../Resources/airports.csv\"\n",
    "airports_data = pd.read_csv(file_to_load)\n",
    "airports_data.tail(2)"
   ]
  },
  {
   "cell_type": "code",
   "execution_count": 4,
   "metadata": {},
   "outputs": [
    {
     "name": "stdout",
     "output_type": "stream",
     "text": [
      "7698\n",
      "Duplicate airport ID found: 0\n"
     ]
    },
    {
     "data": {
      "text/plain": [
       "7698"
      ]
     },
     "execution_count": 4,
     "metadata": {},
     "output_type": "execute_result"
    }
   ],
   "source": [
    "print(airports_data[\"Airport ID\"].count())\n",
    "\n",
    "duplicate_mouse_id = airports_data.loc[airports_data.duplicated(subset=['Airport ID']),'Airport ID'].unique()\n",
    "if len(duplicate_mouse_id) == 0:\n",
    "    duplicate = 0\n",
    "print(f\"Duplicate airport ID found: {duplicate}\")\n",
    "\n",
    "airports_data[\"Airport ID\"].nunique()"
   ]
  },
  {
   "cell_type": "code",
   "execution_count": 5,
   "metadata": {},
   "outputs": [
    {
     "name": "stdout",
     "output_type": "stream",
     "text": [
      "7698\n"
     ]
    },
    {
     "data": {
      "text/plain": [
       "6073"
      ]
     },
     "execution_count": 5,
     "metadata": {},
     "output_type": "execute_result"
    }
   ],
   "source": [
    "# An IATA airport code, also known as an IATA location identifier, IATA station code\n",
    "print(airports_data[\"IATA\"].count())\n",
    "airports_data[\"IATA\"].nunique()"
   ]
  },
  {
   "cell_type": "code",
   "execution_count": 6,
   "metadata": {},
   "outputs": [
    {
     "name": "stdout",
     "output_type": "stream",
     "text": [
      "7698\n"
     ]
    },
    {
     "data": {
      "text/plain": [
       "7698"
      ]
     },
     "execution_count": 6,
     "metadata": {},
     "output_type": "execute_result"
    }
   ],
   "source": [
    "# The ICAO airport code or location indicator is a four-letter code designating aerodromes around the world.\n",
    "print(airports_data[\"ICAO\"].count())\n",
    "airports_data[\"ICAO\"].nunique()"
   ]
  },
  {
   "cell_type": "code",
   "execution_count": 5,
   "metadata": {},
   "outputs": [
    {
     "data": {
      "text/plain": [
       "Airport ID                0\n",
       "Name                      0\n",
       "City                     49\n",
       "Country                   0\n",
       "IATA                      0\n",
       "ICAO                      0\n",
       "Latitude                  0\n",
       "Longitude                 0\n",
       "Altitude                  0\n",
       "Timezone                  0\n",
       "DST                       0\n",
       "Tz database time zone     0\n",
       "Type                      0\n",
       "Source                    0\n",
       "dtype: int64"
      ]
     },
     "execution_count": 5,
     "metadata": {},
     "output_type": "execute_result"
    }
   ],
   "source": [
    "airports_data.isnull().sum()"
   ]
  },
  {
   "cell_type": "code",
   "execution_count": 7,
   "metadata": {},
   "outputs": [
    {
     "data": {
      "text/plain": [
       "United States     1512\n",
       "Canada             430\n",
       "Australia          334\n",
       "Brazil             264\n",
       "Russia             264\n",
       "Germany            249\n",
       "China              241\n",
       "France             217\n",
       "United Kingdom     167\n",
       "India              148\n",
       "Name: Country, dtype: int64"
      ]
     },
     "execution_count": 7,
     "metadata": {},
     "output_type": "execute_result"
    }
   ],
   "source": [
    "#airports_data.groupby(['Country'])['Country'].value_counts().nlargest(10)\n",
    "country_counts = airports_data['Country'].value_counts().nlargest(10)\n",
    "country_counts"
   ]
  },
  {
   "cell_type": "code",
   "execution_count": 8,
   "metadata": {},
   "outputs": [
    {
     "data": {
      "image/png": "[encoded data removed]",
      "text/plain": [
       "<Figure size 432x288 with 1 Axes>"
      ]
     },
     "metadata": {
      "needs_background": "light"
     },
     "output_type": "display_data"
    }
   ],
   "source": [
    "country_counts.plot.bar()\n",
    "plt.xlabel(\"Country\")\n",
    "#plt.xticks(rotation=90)\n",
    "plt.ylabel(\"Number of Airports\")\n",
    "plt.savefig('../output_data/Number of Airports')\n",
    "plt.show()"
   ]
  },
  {
   "cell_type": "code",
   "execution_count": 9,
   "metadata": {},
   "outputs": [
    {
     "data": {
      "text/plain": [
       "\\N                     1021\n",
       "America/New_York        449\n",
       "America/Chicago         345\n",
       "Europe/Berlin           222\n",
       "Europe/Paris            208\n",
       "Asia/Shanghai           187\n",
       "America/Anchorage       177\n",
       "America/Los_Angeles     166\n",
       "Europe/London           155\n",
       "America/Toronto         133\n",
       "Name: Tz database time zone, dtype: int64"
      ]
     },
     "execution_count": 9,
     "metadata": {},
     "output_type": "execute_result"
    }
   ],
   "source": [
    "airports_data['Tz database time zone'].value_counts().nlargest(10)\n",
    "\n",
    "# Need to get rid of \\N"
   ]
  },
  {
   "cell_type": "code",
   "execution_count": 10,
   "metadata": {},
   "outputs": [],
   "source": [
    "# Use a backslash before \\N. The backslash is a special character used for escaping other special characters. \n",
    "# So \\N will be treated as a string literal instead of a special character \n",
    "clean_airports_df = airports_data.loc[airports_data[\"Tz database time zone\"] != \"\\\\N\"]"
   ]
  },
  {
   "cell_type": "code",
   "execution_count": 11,
   "metadata": {},
   "outputs": [
    {
     "data": {
      "text/plain": [
       "America/New_York       449\n",
       "America/Chicago        345\n",
       "Europe/Berlin          222\n",
       "Europe/Paris           208\n",
       "Asia/Shanghai          187\n",
       "America/Anchorage      177\n",
       "America/Los_Angeles    166\n",
       "Europe/London          155\n",
       "America/Toronto        133\n",
       "Asia/Calcutta          131\n",
       "Name: Tz database time zone, dtype: int64"
      ]
     },
     "execution_count": 11,
     "metadata": {},
     "output_type": "execute_result"
    }
   ],
   "source": [
    "timezone_counts = clean_airports_df['Tz database time zone'].value_counts().nlargest(10)\n",
    "timezone_counts"
   ]
  },
  {
   "cell_type": "code",
   "execution_count": 12,
   "metadata": {},
   "outputs": [
    {
     "data": {
      "image/png": "[encoded data removed]",
      "text/plain": [
       "<Figure size 432x288 with 1 Axes>"
      ]
     },
     "metadata": {
      "needs_background": "light"
     },
     "output_type": "display_data"
    }
   ],
   "source": [
    "timezone_counts.plot.bar()\n",
    "plt.xlabel(\"Time Zone\")\n",
    "#plt.xticks(rotation=90)\n",
    "plt.ylabel(\"Number of Airports\")\n",
    "plt.savefig('../output_data/Time zone')\n",
    "plt.show()"
   ]
  },
  {
   "cell_type": "code",
   "execution_count": null,
   "metadata": {},
   "outputs": [],
   "source": []
  }
 ],
 "metadata": {
  "kernelspec": {
   "display_name": "Python 3",
   "language": "python",
   "name": "python3"
  },
  "language_info": {
   "codemirror_mode": {
    "name": "ipython",
    "version": 3
   },
   "file_extension": ".py",
   "mimetype": "text/x-python",
   "name": "python",
   "nbconvert_exporter": "python",
   "pygments_lexer": "ipython3",
   "version": "3.8.3"
  }
 },
 "nbformat": 4,
 "nbformat_minor": 4
}
